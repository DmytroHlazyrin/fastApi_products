{
 "cells": [
  {
   "cell_type": "code",
   "id": "initial_id",
   "metadata": {
    "collapsed": true,
    "ExecuteTime": {
     "end_time": "2024-10-28T09:22:48.981432Z",
     "start_time": "2024-10-28T09:22:47.133224Z"
    }
   },
   "source": "import pandas as pd",
   "outputs": [],
   "execution_count": 2
  },
  {
   "metadata": {
    "ExecuteTime": {
     "end_time": "2024-10-28T09:22:50.484547Z",
     "start_time": "2024-10-28T09:22:50.466567Z"
    }
   },
   "cell_type": "code",
   "source": "df = pd.read_csv('product_reviews_for_test.csv', index_col='review_id')",
   "id": "cbf4a6bd405d0a8a",
   "outputs": [],
   "execution_count": 3
  },
  {
   "metadata": {
    "ExecuteTime": {
     "end_time": "2024-10-28T09:22:51.594594Z",
     "start_time": "2024-10-28T09:22:51.571596Z"
    }
   },
   "cell_type": "code",
   "source": "df = df[df.rating >= 3]",
   "id": "c9efdcb80b4632a3",
   "outputs": [],
   "execution_count": 4
  },
  {
   "metadata": {
    "ExecuteTime": {
     "end_time": "2024-10-28T09:22:52.593560Z",
     "start_time": "2024-10-28T09:22:52.583815Z"
    }
   },
   "cell_type": "code",
   "source": "df[\"num_of_words\"] = df['review_text'].apply(lambda x: len(str(x).split()) if pd.notnull(x) else 0)",
   "id": "124161190dd2efdd",
   "outputs": [],
   "execution_count": 5
  },
  {
   "metadata": {
    "ExecuteTime": {
     "end_time": "2024-10-28T09:22:53.376079Z",
     "start_time": "2024-10-28T09:22:53.366023Z"
    }
   },
   "cell_type": "code",
   "source": "df.sort_values(by=['num_of_words'], ascending=False, inplace=True)",
   "id": "fdd7a3a2514b9744",
   "outputs": [],
   "execution_count": 6
  },
  {
   "metadata": {
    "ExecuteTime": {
     "end_time": "2024-10-28T09:22:54.666629Z",
     "start_time": "2024-10-28T09:22:54.643665Z"
    }
   },
   "cell_type": "code",
   "source": "df",
   "id": "3a02b996640ece57",
   "outputs": [
    {
     "data": {
      "text/plain": [
       "          product_name                                        review_text  \\\n",
       "review_id                                                                   \n",
       "1             Widget A     Great product, really useful and high quality!   \n",
       "5             Widget B  Quite satisfactory, though there are minor flaws.   \n",
       "4             Widget C                  Amazing features and easy to use!   \n",
       "3             Widget A                                                NaN   \n",
       "\n",
       "           rating  num_of_words  \n",
       "review_id                        \n",
       "1               5             7  \n",
       "5               3             7  \n",
       "4               5             6  \n",
       "3               4             0  "
      ],
      "text/html": [
       "<div>\n",
       "<style scoped>\n",
       "    .dataframe tbody tr th:only-of-type {\n",
       "        vertical-align: middle;\n",
       "    }\n",
       "\n",
       "    .dataframe tbody tr th {\n",
       "        vertical-align: top;\n",
       "    }\n",
       "\n",
       "    .dataframe thead th {\n",
       "        text-align: right;\n",
       "    }\n",
       "</style>\n",
       "<table border=\"1\" class=\"dataframe\">\n",
       "  <thead>\n",
       "    <tr style=\"text-align: right;\">\n",
       "      <th></th>\n",
       "      <th>product_name</th>\n",
       "      <th>review_text</th>\n",
       "      <th>rating</th>\n",
       "      <th>num_of_words</th>\n",
       "    </tr>\n",
       "    <tr>\n",
       "      <th>review_id</th>\n",
       "      <th></th>\n",
       "      <th></th>\n",
       "      <th></th>\n",
       "      <th></th>\n",
       "    </tr>\n",
       "  </thead>\n",
       "  <tbody>\n",
       "    <tr>\n",
       "      <th>1</th>\n",
       "      <td>Widget A</td>\n",
       "      <td>Great product, really useful and high quality!</td>\n",
       "      <td>5</td>\n",
       "      <td>7</td>\n",
       "    </tr>\n",
       "    <tr>\n",
       "      <th>5</th>\n",
       "      <td>Widget B</td>\n",
       "      <td>Quite satisfactory, though there are minor flaws.</td>\n",
       "      <td>3</td>\n",
       "      <td>7</td>\n",
       "    </tr>\n",
       "    <tr>\n",
       "      <th>4</th>\n",
       "      <td>Widget C</td>\n",
       "      <td>Amazing features and easy to use!</td>\n",
       "      <td>5</td>\n",
       "      <td>6</td>\n",
       "    </tr>\n",
       "    <tr>\n",
       "      <th>3</th>\n",
       "      <td>Widget A</td>\n",
       "      <td>NaN</td>\n",
       "      <td>4</td>\n",
       "      <td>0</td>\n",
       "    </tr>\n",
       "  </tbody>\n",
       "</table>\n",
       "</div>"
      ]
     },
     "execution_count": 7,
     "metadata": {},
     "output_type": "execute_result"
    }
   ],
   "execution_count": 7
  },
  {
   "metadata": {},
   "cell_type": "code",
   "outputs": [],
   "execution_count": null,
   "source": "",
   "id": "6c763784f46c211b"
  }
 ],
 "metadata": {
  "kernelspec": {
   "display_name": "Python 3",
   "language": "python",
   "name": "python3"
  },
  "language_info": {
   "codemirror_mode": {
    "name": "ipython",
    "version": 2
   },
   "file_extension": ".py",
   "mimetype": "text/x-python",
   "name": "python",
   "nbconvert_exporter": "python",
   "pygments_lexer": "ipython2",
   "version": "2.7.6"
  }
 },
 "nbformat": 4,
 "nbformat_minor": 5
}
